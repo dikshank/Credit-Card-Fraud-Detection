{
 "cells": [
  {
   "cell_type": "code",
   "execution_count": 1,
   "metadata": {},
   "outputs": [],
   "source": [
    "import numpy as np\n",
    "import pandas as pd"
   ]
  },
  {
   "cell_type": "code",
   "execution_count": 2,
   "metadata": {},
   "outputs": [],
   "source": [
    "data = pd.read_csv('creditcard.csv')"
   ]
  },
  {
   "cell_type": "code",
   "execution_count": 3,
   "metadata": {},
   "outputs": [
    {
     "data": {
      "text/html": [
       "<div>\n",
       "<style scoped>\n",
       "    .dataframe tbody tr th:only-of-type {\n",
       "        vertical-align: middle;\n",
       "    }\n",
       "\n",
       "    .dataframe tbody tr th {\n",
       "        vertical-align: top;\n",
       "    }\n",
       "\n",
       "    .dataframe thead th {\n",
       "        text-align: right;\n",
       "    }\n",
       "</style>\n",
       "<table border=\"1\" class=\"dataframe\">\n",
       "  <thead>\n",
       "    <tr style=\"text-align: right;\">\n",
       "      <th></th>\n",
       "      <th>Time</th>\n",
       "      <th>V1</th>\n",
       "      <th>V2</th>\n",
       "      <th>V3</th>\n",
       "      <th>V4</th>\n",
       "      <th>V5</th>\n",
       "      <th>V6</th>\n",
       "      <th>V7</th>\n",
       "      <th>V8</th>\n",
       "      <th>V9</th>\n",
       "      <th>...</th>\n",
       "      <th>V21</th>\n",
       "      <th>V22</th>\n",
       "      <th>V23</th>\n",
       "      <th>V24</th>\n",
       "      <th>V25</th>\n",
       "      <th>V26</th>\n",
       "      <th>V27</th>\n",
       "      <th>V28</th>\n",
       "      <th>Amount</th>\n",
       "      <th>Class</th>\n",
       "    </tr>\n",
       "  </thead>\n",
       "  <tbody>\n",
       "    <tr>\n",
       "      <td>0</td>\n",
       "      <td>0.0</td>\n",
       "      <td>-1.359807</td>\n",
       "      <td>-0.072781</td>\n",
       "      <td>2.536347</td>\n",
       "      <td>1.378155</td>\n",
       "      <td>-0.338321</td>\n",
       "      <td>0.462388</td>\n",
       "      <td>0.239599</td>\n",
       "      <td>0.098698</td>\n",
       "      <td>0.363787</td>\n",
       "      <td>...</td>\n",
       "      <td>-0.018307</td>\n",
       "      <td>0.277838</td>\n",
       "      <td>-0.110474</td>\n",
       "      <td>0.066928</td>\n",
       "      <td>0.128539</td>\n",
       "      <td>-0.189115</td>\n",
       "      <td>0.133558</td>\n",
       "      <td>-0.021053</td>\n",
       "      <td>149.62</td>\n",
       "      <td>0</td>\n",
       "    </tr>\n",
       "    <tr>\n",
       "      <td>1</td>\n",
       "      <td>0.0</td>\n",
       "      <td>1.191857</td>\n",
       "      <td>0.266151</td>\n",
       "      <td>0.166480</td>\n",
       "      <td>0.448154</td>\n",
       "      <td>0.060018</td>\n",
       "      <td>-0.082361</td>\n",
       "      <td>-0.078803</td>\n",
       "      <td>0.085102</td>\n",
       "      <td>-0.255425</td>\n",
       "      <td>...</td>\n",
       "      <td>-0.225775</td>\n",
       "      <td>-0.638672</td>\n",
       "      <td>0.101288</td>\n",
       "      <td>-0.339846</td>\n",
       "      <td>0.167170</td>\n",
       "      <td>0.125895</td>\n",
       "      <td>-0.008983</td>\n",
       "      <td>0.014724</td>\n",
       "      <td>2.69</td>\n",
       "      <td>0</td>\n",
       "    </tr>\n",
       "    <tr>\n",
       "      <td>2</td>\n",
       "      <td>1.0</td>\n",
       "      <td>-1.358354</td>\n",
       "      <td>-1.340163</td>\n",
       "      <td>1.773209</td>\n",
       "      <td>0.379780</td>\n",
       "      <td>-0.503198</td>\n",
       "      <td>1.800499</td>\n",
       "      <td>0.791461</td>\n",
       "      <td>0.247676</td>\n",
       "      <td>-1.514654</td>\n",
       "      <td>...</td>\n",
       "      <td>0.247998</td>\n",
       "      <td>0.771679</td>\n",
       "      <td>0.909412</td>\n",
       "      <td>-0.689281</td>\n",
       "      <td>-0.327642</td>\n",
       "      <td>-0.139097</td>\n",
       "      <td>-0.055353</td>\n",
       "      <td>-0.059752</td>\n",
       "      <td>378.66</td>\n",
       "      <td>0</td>\n",
       "    </tr>\n",
       "    <tr>\n",
       "      <td>3</td>\n",
       "      <td>1.0</td>\n",
       "      <td>-0.966272</td>\n",
       "      <td>-0.185226</td>\n",
       "      <td>1.792993</td>\n",
       "      <td>-0.863291</td>\n",
       "      <td>-0.010309</td>\n",
       "      <td>1.247203</td>\n",
       "      <td>0.237609</td>\n",
       "      <td>0.377436</td>\n",
       "      <td>-1.387024</td>\n",
       "      <td>...</td>\n",
       "      <td>-0.108300</td>\n",
       "      <td>0.005274</td>\n",
       "      <td>-0.190321</td>\n",
       "      <td>-1.175575</td>\n",
       "      <td>0.647376</td>\n",
       "      <td>-0.221929</td>\n",
       "      <td>0.062723</td>\n",
       "      <td>0.061458</td>\n",
       "      <td>123.50</td>\n",
       "      <td>0</td>\n",
       "    </tr>\n",
       "    <tr>\n",
       "      <td>4</td>\n",
       "      <td>2.0</td>\n",
       "      <td>-1.158233</td>\n",
       "      <td>0.877737</td>\n",
       "      <td>1.548718</td>\n",
       "      <td>0.403034</td>\n",
       "      <td>-0.407193</td>\n",
       "      <td>0.095921</td>\n",
       "      <td>0.592941</td>\n",
       "      <td>-0.270533</td>\n",
       "      <td>0.817739</td>\n",
       "      <td>...</td>\n",
       "      <td>-0.009431</td>\n",
       "      <td>0.798278</td>\n",
       "      <td>-0.137458</td>\n",
       "      <td>0.141267</td>\n",
       "      <td>-0.206010</td>\n",
       "      <td>0.502292</td>\n",
       "      <td>0.219422</td>\n",
       "      <td>0.215153</td>\n",
       "      <td>69.99</td>\n",
       "      <td>0</td>\n",
       "    </tr>\n",
       "    <tr>\n",
       "      <td>...</td>\n",
       "      <td>...</td>\n",
       "      <td>...</td>\n",
       "      <td>...</td>\n",
       "      <td>...</td>\n",
       "      <td>...</td>\n",
       "      <td>...</td>\n",
       "      <td>...</td>\n",
       "      <td>...</td>\n",
       "      <td>...</td>\n",
       "      <td>...</td>\n",
       "      <td>...</td>\n",
       "      <td>...</td>\n",
       "      <td>...</td>\n",
       "      <td>...</td>\n",
       "      <td>...</td>\n",
       "      <td>...</td>\n",
       "      <td>...</td>\n",
       "      <td>...</td>\n",
       "      <td>...</td>\n",
       "      <td>...</td>\n",
       "      <td>...</td>\n",
       "    </tr>\n",
       "    <tr>\n",
       "      <td>284802</td>\n",
       "      <td>172786.0</td>\n",
       "      <td>-11.881118</td>\n",
       "      <td>10.071785</td>\n",
       "      <td>-9.834783</td>\n",
       "      <td>-2.066656</td>\n",
       "      <td>-5.364473</td>\n",
       "      <td>-2.606837</td>\n",
       "      <td>-4.918215</td>\n",
       "      <td>7.305334</td>\n",
       "      <td>1.914428</td>\n",
       "      <td>...</td>\n",
       "      <td>0.213454</td>\n",
       "      <td>0.111864</td>\n",
       "      <td>1.014480</td>\n",
       "      <td>-0.509348</td>\n",
       "      <td>1.436807</td>\n",
       "      <td>0.250034</td>\n",
       "      <td>0.943651</td>\n",
       "      <td>0.823731</td>\n",
       "      <td>0.77</td>\n",
       "      <td>0</td>\n",
       "    </tr>\n",
       "    <tr>\n",
       "      <td>284803</td>\n",
       "      <td>172787.0</td>\n",
       "      <td>-0.732789</td>\n",
       "      <td>-0.055080</td>\n",
       "      <td>2.035030</td>\n",
       "      <td>-0.738589</td>\n",
       "      <td>0.868229</td>\n",
       "      <td>1.058415</td>\n",
       "      <td>0.024330</td>\n",
       "      <td>0.294869</td>\n",
       "      <td>0.584800</td>\n",
       "      <td>...</td>\n",
       "      <td>0.214205</td>\n",
       "      <td>0.924384</td>\n",
       "      <td>0.012463</td>\n",
       "      <td>-1.016226</td>\n",
       "      <td>-0.606624</td>\n",
       "      <td>-0.395255</td>\n",
       "      <td>0.068472</td>\n",
       "      <td>-0.053527</td>\n",
       "      <td>24.79</td>\n",
       "      <td>0</td>\n",
       "    </tr>\n",
       "    <tr>\n",
       "      <td>284804</td>\n",
       "      <td>172788.0</td>\n",
       "      <td>1.919565</td>\n",
       "      <td>-0.301254</td>\n",
       "      <td>-3.249640</td>\n",
       "      <td>-0.557828</td>\n",
       "      <td>2.630515</td>\n",
       "      <td>3.031260</td>\n",
       "      <td>-0.296827</td>\n",
       "      <td>0.708417</td>\n",
       "      <td>0.432454</td>\n",
       "      <td>...</td>\n",
       "      <td>0.232045</td>\n",
       "      <td>0.578229</td>\n",
       "      <td>-0.037501</td>\n",
       "      <td>0.640134</td>\n",
       "      <td>0.265745</td>\n",
       "      <td>-0.087371</td>\n",
       "      <td>0.004455</td>\n",
       "      <td>-0.026561</td>\n",
       "      <td>67.88</td>\n",
       "      <td>0</td>\n",
       "    </tr>\n",
       "    <tr>\n",
       "      <td>284805</td>\n",
       "      <td>172788.0</td>\n",
       "      <td>-0.240440</td>\n",
       "      <td>0.530483</td>\n",
       "      <td>0.702510</td>\n",
       "      <td>0.689799</td>\n",
       "      <td>-0.377961</td>\n",
       "      <td>0.623708</td>\n",
       "      <td>-0.686180</td>\n",
       "      <td>0.679145</td>\n",
       "      <td>0.392087</td>\n",
       "      <td>...</td>\n",
       "      <td>0.265245</td>\n",
       "      <td>0.800049</td>\n",
       "      <td>-0.163298</td>\n",
       "      <td>0.123205</td>\n",
       "      <td>-0.569159</td>\n",
       "      <td>0.546668</td>\n",
       "      <td>0.108821</td>\n",
       "      <td>0.104533</td>\n",
       "      <td>10.00</td>\n",
       "      <td>0</td>\n",
       "    </tr>\n",
       "    <tr>\n",
       "      <td>284806</td>\n",
       "      <td>172792.0</td>\n",
       "      <td>-0.533413</td>\n",
       "      <td>-0.189733</td>\n",
       "      <td>0.703337</td>\n",
       "      <td>-0.506271</td>\n",
       "      <td>-0.012546</td>\n",
       "      <td>-0.649617</td>\n",
       "      <td>1.577006</td>\n",
       "      <td>-0.414650</td>\n",
       "      <td>0.486180</td>\n",
       "      <td>...</td>\n",
       "      <td>0.261057</td>\n",
       "      <td>0.643078</td>\n",
       "      <td>0.376777</td>\n",
       "      <td>0.008797</td>\n",
       "      <td>-0.473649</td>\n",
       "      <td>-0.818267</td>\n",
       "      <td>-0.002415</td>\n",
       "      <td>0.013649</td>\n",
       "      <td>217.00</td>\n",
       "      <td>0</td>\n",
       "    </tr>\n",
       "  </tbody>\n",
       "</table>\n",
       "<p>284807 rows × 31 columns</p>\n",
       "</div>"
      ],
      "text/plain": [
       "            Time         V1         V2        V3        V4        V5  \\\n",
       "0            0.0  -1.359807  -0.072781  2.536347  1.378155 -0.338321   \n",
       "1            0.0   1.191857   0.266151  0.166480  0.448154  0.060018   \n",
       "2            1.0  -1.358354  -1.340163  1.773209  0.379780 -0.503198   \n",
       "3            1.0  -0.966272  -0.185226  1.792993 -0.863291 -0.010309   \n",
       "4            2.0  -1.158233   0.877737  1.548718  0.403034 -0.407193   \n",
       "...          ...        ...        ...       ...       ...       ...   \n",
       "284802  172786.0 -11.881118  10.071785 -9.834783 -2.066656 -5.364473   \n",
       "284803  172787.0  -0.732789  -0.055080  2.035030 -0.738589  0.868229   \n",
       "284804  172788.0   1.919565  -0.301254 -3.249640 -0.557828  2.630515   \n",
       "284805  172788.0  -0.240440   0.530483  0.702510  0.689799 -0.377961   \n",
       "284806  172792.0  -0.533413  -0.189733  0.703337 -0.506271 -0.012546   \n",
       "\n",
       "              V6        V7        V8        V9  ...       V21       V22  \\\n",
       "0       0.462388  0.239599  0.098698  0.363787  ... -0.018307  0.277838   \n",
       "1      -0.082361 -0.078803  0.085102 -0.255425  ... -0.225775 -0.638672   \n",
       "2       1.800499  0.791461  0.247676 -1.514654  ...  0.247998  0.771679   \n",
       "3       1.247203  0.237609  0.377436 -1.387024  ... -0.108300  0.005274   \n",
       "4       0.095921  0.592941 -0.270533  0.817739  ... -0.009431  0.798278   \n",
       "...          ...       ...       ...       ...  ...       ...       ...   \n",
       "284802 -2.606837 -4.918215  7.305334  1.914428  ...  0.213454  0.111864   \n",
       "284803  1.058415  0.024330  0.294869  0.584800  ...  0.214205  0.924384   \n",
       "284804  3.031260 -0.296827  0.708417  0.432454  ...  0.232045  0.578229   \n",
       "284805  0.623708 -0.686180  0.679145  0.392087  ...  0.265245  0.800049   \n",
       "284806 -0.649617  1.577006 -0.414650  0.486180  ...  0.261057  0.643078   \n",
       "\n",
       "             V23       V24       V25       V26       V27       V28  Amount  \\\n",
       "0      -0.110474  0.066928  0.128539 -0.189115  0.133558 -0.021053  149.62   \n",
       "1       0.101288 -0.339846  0.167170  0.125895 -0.008983  0.014724    2.69   \n",
       "2       0.909412 -0.689281 -0.327642 -0.139097 -0.055353 -0.059752  378.66   \n",
       "3      -0.190321 -1.175575  0.647376 -0.221929  0.062723  0.061458  123.50   \n",
       "4      -0.137458  0.141267 -0.206010  0.502292  0.219422  0.215153   69.99   \n",
       "...          ...       ...       ...       ...       ...       ...     ...   \n",
       "284802  1.014480 -0.509348  1.436807  0.250034  0.943651  0.823731    0.77   \n",
       "284803  0.012463 -1.016226 -0.606624 -0.395255  0.068472 -0.053527   24.79   \n",
       "284804 -0.037501  0.640134  0.265745 -0.087371  0.004455 -0.026561   67.88   \n",
       "284805 -0.163298  0.123205 -0.569159  0.546668  0.108821  0.104533   10.00   \n",
       "284806  0.376777  0.008797 -0.473649 -0.818267 -0.002415  0.013649  217.00   \n",
       "\n",
       "        Class  \n",
       "0           0  \n",
       "1           0  \n",
       "2           0  \n",
       "3           0  \n",
       "4           0  \n",
       "...       ...  \n",
       "284802      0  \n",
       "284803      0  \n",
       "284804      0  \n",
       "284805      0  \n",
       "284806      0  \n",
       "\n",
       "[284807 rows x 31 columns]"
      ]
     },
     "execution_count": 3,
     "metadata": {},
     "output_type": "execute_result"
    }
   ],
   "source": [
    "data"
   ]
  },
  {
   "cell_type": "code",
   "execution_count": 4,
   "metadata": {},
   "outputs": [],
   "source": [
    "data.drop('Time',axis=1,inplace=True)"
   ]
  },
  {
   "cell_type": "markdown",
   "metadata": {},
   "source": [
    "# let's get the total number of samples for each category"
   ]
  },
  {
   "cell_type": "code",
   "execution_count": 5,
   "metadata": {},
   "outputs": [
    {
     "data": {
      "text/plain": [
       "(284315, 30)"
      ]
     },
     "execution_count": 5,
     "metadata": {},
     "output_type": "execute_result"
    }
   ],
   "source": [
    "data[data['Class'] == 0].shape"
   ]
  },
  {
   "cell_type": "code",
   "execution_count": 6,
   "metadata": {},
   "outputs": [
    {
     "data": {
      "text/plain": [
       "(492, 30)"
      ]
     },
     "execution_count": 6,
     "metadata": {},
     "output_type": "execute_result"
    }
   ],
   "source": [
    "data[data['Class'] == 1].shape"
   ]
  },
  {
   "cell_type": "code",
   "execution_count": null,
   "metadata": {},
   "outputs": [],
   "source": []
  },
  {
   "cell_type": "code",
   "execution_count": 7,
   "metadata": {},
   "outputs": [],
   "source": [
    "# this function will return total unique values from each column\n",
    "def unique_value_count(data):\n",
    "    unique_values = dict()\n",
    "    for column in data.columns:\n",
    "        unique_values[column] = len(data[column].unique())\n",
    "    \n",
    "    return unique_values"
   ]
  },
  {
   "cell_type": "code",
   "execution_count": 8,
   "metadata": {},
   "outputs": [
    {
     "data": {
      "text/plain": [
       "{'V1': 275663,\n",
       " 'V2': 275663,\n",
       " 'V3': 275663,\n",
       " 'V4': 275663,\n",
       " 'V5': 275663,\n",
       " 'V6': 275663,\n",
       " 'V7': 275663,\n",
       " 'V8': 275663,\n",
       " 'V9': 275663,\n",
       " 'V10': 275663,\n",
       " 'V11': 275663,\n",
       " 'V12': 275663,\n",
       " 'V13': 275663,\n",
       " 'V14': 275663,\n",
       " 'V15': 275663,\n",
       " 'V16': 275663,\n",
       " 'V17': 275663,\n",
       " 'V18': 275663,\n",
       " 'V19': 275663,\n",
       " 'V20': 275663,\n",
       " 'V21': 275663,\n",
       " 'V22': 275663,\n",
       " 'V23': 275663,\n",
       " 'V24': 275663,\n",
       " 'V25': 275663,\n",
       " 'V26': 275663,\n",
       " 'V27': 275663,\n",
       " 'V28': 275663,\n",
       " 'Amount': 32767,\n",
       " 'Class': 2}"
      ]
     },
     "execution_count": 8,
     "metadata": {},
     "output_type": "execute_result"
    }
   ],
   "source": [
    "unique_value_count(data)"
   ]
  },
  {
   "cell_type": "code",
   "execution_count": 9,
   "metadata": {},
   "outputs": [],
   "source": [
    "# data['Time'].unique"
   ]
  },
  {
   "cell_type": "code",
   "execution_count": 10,
   "metadata": {},
   "outputs": [],
   "source": [
    "# data.isna().sum()"
   ]
  },
  {
   "cell_type": "code",
   "execution_count": 11,
   "metadata": {},
   "outputs": [],
   "source": [
    "# This is strange as the unique values are coming out to be same but lesser than total values of column"
   ]
  },
  {
   "cell_type": "code",
   "execution_count": 12,
   "metadata": {},
   "outputs": [
    {
     "data": {
      "text/plain": [
       "array([1, 2, 0], dtype=int64)"
      ]
     },
     "execution_count": 12,
     "metadata": {},
     "output_type": "execute_result"
    }
   ],
   "source": [
    "(data == 0).sum(axis=1).unique() # checking if any row has all the values as zeros"
   ]
  },
  {
   "cell_type": "code",
   "execution_count": 13,
   "metadata": {},
   "outputs": [
    {
     "data": {
      "text/plain": [
       "9144"
      ]
     },
     "execution_count": 13,
     "metadata": {},
     "output_type": "execute_result"
    }
   ],
   "source": [
    "duplicate_rows = data[data.duplicated()]\n",
    "duplicate_rows.shape[0] # getting total number of duplicated rows"
   ]
  },
  {
   "cell_type": "code",
   "execution_count": 14,
   "metadata": {},
   "outputs": [
    {
     "name": "stdout",
     "output_type": "stream",
     "text": [
      "9144\n"
     ]
    }
   ],
   "source": [
    "print(data.duplicated().sum())   # Getting total number of duplicated rows but differently "
   ]
  },
  {
   "cell_type": "code",
   "execution_count": 15,
   "metadata": {},
   "outputs": [
    {
     "name": "stdout",
     "output_type": "stream",
     "text": [
      "False    275663\n",
      "True       9144\n",
      "dtype: int64\n"
     ]
    }
   ],
   "source": [
    "print(data.duplicated(keep='first').value_counts())  # Getting total number of duplicated rows but again differently "
   ]
  },
  {
   "cell_type": "code",
   "execution_count": 16,
   "metadata": {},
   "outputs": [],
   "source": [
    "# dropping the duplicate rows\n",
    "data.drop_duplicates(inplace=True,keep='first')"
   ]
  },
  {
   "cell_type": "code",
   "execution_count": 17,
   "metadata": {},
   "outputs": [
    {
     "data": {
      "text/plain": [
       "(275663, 30)"
      ]
     },
     "execution_count": 17,
     "metadata": {},
     "output_type": "execute_result"
    }
   ],
   "source": [
    "data.shape"
   ]
  },
  {
   "cell_type": "code",
   "execution_count": 18,
   "metadata": {},
   "outputs": [],
   "source": [
    "data_label = np.array(data['Class']).reshape(data['Class'].shape[0],1)"
   ]
  },
  {
   "cell_type": "code",
   "execution_count": 19,
   "metadata": {},
   "outputs": [
    {
     "data": {
      "text/plain": [
       "array([[0],\n",
       "       [0],\n",
       "       [0],\n",
       "       ...,\n",
       "       [0],\n",
       "       [0],\n",
       "       [0]], dtype=int64)"
      ]
     },
     "execution_count": 19,
     "metadata": {},
     "output_type": "execute_result"
    }
   ],
   "source": [
    "data_label"
   ]
  },
  {
   "cell_type": "code",
   "execution_count": 20,
   "metadata": {},
   "outputs": [
    {
     "name": "stdout",
     "output_type": "stream",
     "text": [
      "(275663, 1)\n"
     ]
    }
   ],
   "source": [
    "print(data_label.shape)"
   ]
  },
  {
   "cell_type": "markdown",
   "metadata": {},
   "source": [
    "# Let's do dimensionality reduction using PCA"
   ]
  },
  {
   "cell_type": "code",
   "execution_count": 21,
   "metadata": {},
   "outputs": [],
   "source": [
    "from sklearn.decomposition import PCA"
   ]
  },
  {
   "cell_type": "code",
   "execution_count": 22,
   "metadata": {},
   "outputs": [],
   "source": [
    "PCA_obj = PCA(n_components=16)"
   ]
  },
  {
   "cell_type": "code",
   "execution_count": 23,
   "metadata": {},
   "outputs": [],
   "source": [
    "new_data_array = PCA_obj.fit_transform(data)"
   ]
  },
  {
   "cell_type": "code",
   "execution_count": 24,
   "metadata": {},
   "outputs": [
    {
     "data": {
      "text/plain": [
       "(275663, 16)"
      ]
     },
     "execution_count": 24,
     "metadata": {},
     "output_type": "execute_result"
    }
   ],
   "source": [
    "new_data_array.shape"
   ]
  },
  {
   "cell_type": "code",
   "execution_count": 25,
   "metadata": {},
   "outputs": [
    {
     "data": {
      "text/plain": [
       "array([[0],\n",
       "       [0],\n",
       "       [0],\n",
       "       ...,\n",
       "       [0],\n",
       "       [0],\n",
       "       [0]], dtype=int64)"
      ]
     },
     "execution_count": 25,
     "metadata": {},
     "output_type": "execute_result"
    }
   ],
   "source": [
    "data_label"
   ]
  },
  {
   "cell_type": "code",
   "execution_count": 26,
   "metadata": {},
   "outputs": [],
   "source": [
    "new_data = pd.DataFrame(data=new_data_array)"
   ]
  },
  {
   "cell_type": "code",
   "execution_count": 27,
   "metadata": {},
   "outputs": [
    {
     "data": {
      "text/html": [
       "<div>\n",
       "<style scoped>\n",
       "    .dataframe tbody tr th:only-of-type {\n",
       "        vertical-align: middle;\n",
       "    }\n",
       "\n",
       "    .dataframe tbody tr th {\n",
       "        vertical-align: top;\n",
       "    }\n",
       "\n",
       "    .dataframe thead th {\n",
       "        text-align: right;\n",
       "    }\n",
       "</style>\n",
       "<table border=\"1\" class=\"dataframe\">\n",
       "  <thead>\n",
       "    <tr style=\"text-align: right;\">\n",
       "      <th></th>\n",
       "      <th>0</th>\n",
       "      <th>1</th>\n",
       "      <th>2</th>\n",
       "      <th>3</th>\n",
       "      <th>4</th>\n",
       "      <th>5</th>\n",
       "      <th>6</th>\n",
       "      <th>7</th>\n",
       "      <th>8</th>\n",
       "      <th>9</th>\n",
       "      <th>10</th>\n",
       "      <th>11</th>\n",
       "      <th>12</th>\n",
       "      <th>13</th>\n",
       "      <th>14</th>\n",
       "      <th>15</th>\n",
       "    </tr>\n",
       "  </thead>\n",
       "  <tbody>\n",
       "    <tr>\n",
       "      <td>0</td>\n",
       "      <td>59.042469</td>\n",
       "      <td>1.264717</td>\n",
       "      <td>-0.953073</td>\n",
       "      <td>-2.559258</td>\n",
       "      <td>1.102586</td>\n",
       "      <td>0.056444</td>\n",
       "      <td>-0.028142</td>\n",
       "      <td>-0.136403</td>\n",
       "      <td>0.371820</td>\n",
       "      <td>-0.194554</td>\n",
       "      <td>-0.670496</td>\n",
       "      <td>1.058637</td>\n",
       "      <td>-0.099136</td>\n",
       "      <td>0.195310</td>\n",
       "      <td>0.202303</td>\n",
       "      <td>-1.517385</td>\n",
       "    </tr>\n",
       "    <tr>\n",
       "      <td>1</td>\n",
       "      <td>-87.890544</td>\n",
       "      <td>-1.072583</td>\n",
       "      <td>0.123013</td>\n",
       "      <td>-0.195061</td>\n",
       "      <td>0.439708</td>\n",
       "      <td>0.054045</td>\n",
       "      <td>-0.032411</td>\n",
       "      <td>-0.063365</td>\n",
       "      <td>-0.256451</td>\n",
       "      <td>0.170405</td>\n",
       "      <td>1.707454</td>\n",
       "      <td>-0.889698</td>\n",
       "      <td>-0.526321</td>\n",
       "      <td>0.198785</td>\n",
       "      <td>0.147549</td>\n",
       "      <td>-0.600740</td>\n",
       "    </tr>\n",
       "    <tr>\n",
       "      <td>2</td>\n",
       "      <td>288.087806</td>\n",
       "      <td>0.783371</td>\n",
       "      <td>-1.090214</td>\n",
       "      <td>-2.053562</td>\n",
       "      <td>0.092831</td>\n",
       "      <td>-0.987747</td>\n",
       "      <td>0.628993</td>\n",
       "      <td>-0.542591</td>\n",
       "      <td>-1.487522</td>\n",
       "      <td>-0.427180</td>\n",
       "      <td>0.552639</td>\n",
       "      <td>-0.718009</td>\n",
       "      <td>0.274286</td>\n",
       "      <td>0.043461</td>\n",
       "      <td>0.430816</td>\n",
       "      <td>-2.464673</td>\n",
       "    </tr>\n",
       "    <tr>\n",
       "      <td>3</td>\n",
       "      <td>32.922736</td>\n",
       "      <td>0.875123</td>\n",
       "      <td>-0.848014</td>\n",
       "      <td>-1.636324</td>\n",
       "      <td>-0.966673</td>\n",
       "      <td>-0.993870</td>\n",
       "      <td>0.492019</td>\n",
       "      <td>-0.506463</td>\n",
       "      <td>-1.338224</td>\n",
       "      <td>0.032873</td>\n",
       "      <td>-0.257829</td>\n",
       "      <td>-0.585210</td>\n",
       "      <td>0.070405</td>\n",
       "      <td>0.189067</td>\n",
       "      <td>-0.386272</td>\n",
       "      <td>0.498132</td>\n",
       "    </tr>\n",
       "    <tr>\n",
       "      <td>4</td>\n",
       "      <td>-20.589188</td>\n",
       "      <td>1.249320</td>\n",
       "      <td>0.148723</td>\n",
       "      <td>-1.747384</td>\n",
       "      <td>0.176306</td>\n",
       "      <td>0.026978</td>\n",
       "      <td>-0.397913</td>\n",
       "      <td>0.173007</td>\n",
       "      <td>0.847575</td>\n",
       "      <td>-0.858395</td>\n",
       "      <td>-0.816950</td>\n",
       "      <td>-1.575170</td>\n",
       "      <td>0.183157</td>\n",
       "      <td>0.788469</td>\n",
       "      <td>-0.446539</td>\n",
       "      <td>-0.331035</td>\n",
       "    </tr>\n",
       "    <tr>\n",
       "      <td>...</td>\n",
       "      <td>...</td>\n",
       "      <td>...</td>\n",
       "      <td>...</td>\n",
       "      <td>...</td>\n",
       "      <td>...</td>\n",
       "      <td>...</td>\n",
       "      <td>...</td>\n",
       "      <td>...</td>\n",
       "      <td>...</td>\n",
       "      <td>...</td>\n",
       "      <td>...</td>\n",
       "      <td>...</td>\n",
       "      <td>...</td>\n",
       "      <td>...</td>\n",
       "      <td>...</td>\n",
       "      <td>...</td>\n",
       "    </tr>\n",
       "    <tr>\n",
       "      <td>275658</td>\n",
       "      <td>-89.815439</td>\n",
       "      <td>12.844695</td>\n",
       "      <td>11.658483</td>\n",
       "      <td>6.108744</td>\n",
       "      <td>-2.488223</td>\n",
       "      <td>7.494091</td>\n",
       "      <td>3.774636</td>\n",
       "      <td>-5.932871</td>\n",
       "      <td>0.985336</td>\n",
       "      <td>-2.287850</td>\n",
       "      <td>-1.181933</td>\n",
       "      <td>-0.680110</td>\n",
       "      <td>-2.287249</td>\n",
       "      <td>-6.460663</td>\n",
       "      <td>-2.430597</td>\n",
       "      <td>0.606362</td>\n",
       "    </tr>\n",
       "    <tr>\n",
       "      <td>275659</td>\n",
       "      <td>-65.789451</td>\n",
       "      <td>0.863875</td>\n",
       "      <td>-1.260137</td>\n",
       "      <td>-1.482111</td>\n",
       "      <td>-0.638587</td>\n",
       "      <td>-1.365549</td>\n",
       "      <td>0.257243</td>\n",
       "      <td>-0.353875</td>\n",
       "      <td>0.633605</td>\n",
       "      <td>0.954162</td>\n",
       "      <td>-0.063408</td>\n",
       "      <td>-1.589925</td>\n",
       "      <td>-0.106557</td>\n",
       "      <td>0.428097</td>\n",
       "      <td>-0.011523</td>\n",
       "      <td>-1.281257</td>\n",
       "    </tr>\n",
       "    <tr>\n",
       "      <td>275660</td>\n",
       "      <td>-22.699240</td>\n",
       "      <td>-1.871285</td>\n",
       "      <td>0.911788</td>\n",
       "      <td>3.082031</td>\n",
       "      <td>0.276534</td>\n",
       "      <td>-3.505082</td>\n",
       "      <td>2.038178</td>\n",
       "      <td>-0.939223</td>\n",
       "      <td>0.446143</td>\n",
       "      <td>0.534334</td>\n",
       "      <td>0.398815</td>\n",
       "      <td>0.118360</td>\n",
       "      <td>-0.110257</td>\n",
       "      <td>0.446304</td>\n",
       "      <td>0.049100</td>\n",
       "      <td>-1.483543</td>\n",
       "    </tr>\n",
       "    <tr>\n",
       "      <td>275661</td>\n",
       "      <td>-80.579461</td>\n",
       "      <td>0.346109</td>\n",
       "      <td>0.117191</td>\n",
       "      <td>-0.916490</td>\n",
       "      <td>0.606581</td>\n",
       "      <td>0.259812</td>\n",
       "      <td>0.893477</td>\n",
       "      <td>-0.553344</td>\n",
       "      <td>0.366577</td>\n",
       "      <td>0.509038</td>\n",
       "      <td>-1.997447</td>\n",
       "      <td>1.246786</td>\n",
       "      <td>0.162977</td>\n",
       "      <td>-0.510440</td>\n",
       "      <td>0.894472</td>\n",
       "      <td>-1.881723</td>\n",
       "    </tr>\n",
       "    <tr>\n",
       "      <td>275662</td>\n",
       "      <td>126.423330</td>\n",
       "      <td>0.328603</td>\n",
       "      <td>-0.162112</td>\n",
       "      <td>-0.632307</td>\n",
       "      <td>-0.600002</td>\n",
       "      <td>-0.347229</td>\n",
       "      <td>-1.684880</td>\n",
       "      <td>0.208411</td>\n",
       "      <td>0.631171</td>\n",
       "      <td>0.655535</td>\n",
       "      <td>-1.018033</td>\n",
       "      <td>0.073042</td>\n",
       "      <td>-0.180305</td>\n",
       "      <td>0.116590</td>\n",
       "      <td>0.131645</td>\n",
       "      <td>-0.031084</td>\n",
       "    </tr>\n",
       "  </tbody>\n",
       "</table>\n",
       "<p>275663 rows × 16 columns</p>\n",
       "</div>"
      ],
      "text/plain": [
       "                 0          1          2         3         4         5  \\\n",
       "0        59.042469   1.264717  -0.953073 -2.559258  1.102586  0.056444   \n",
       "1       -87.890544  -1.072583   0.123013 -0.195061  0.439708  0.054045   \n",
       "2       288.087806   0.783371  -1.090214 -2.053562  0.092831 -0.987747   \n",
       "3        32.922736   0.875123  -0.848014 -1.636324 -0.966673 -0.993870   \n",
       "4       -20.589188   1.249320   0.148723 -1.747384  0.176306  0.026978   \n",
       "...            ...        ...        ...       ...       ...       ...   \n",
       "275658  -89.815439  12.844695  11.658483  6.108744 -2.488223  7.494091   \n",
       "275659  -65.789451   0.863875  -1.260137 -1.482111 -0.638587 -1.365549   \n",
       "275660  -22.699240  -1.871285   0.911788  3.082031  0.276534 -3.505082   \n",
       "275661  -80.579461   0.346109   0.117191 -0.916490  0.606581  0.259812   \n",
       "275662  126.423330   0.328603  -0.162112 -0.632307 -0.600002 -0.347229   \n",
       "\n",
       "               6         7         8         9        10        11        12  \\\n",
       "0      -0.028142 -0.136403  0.371820 -0.194554 -0.670496  1.058637 -0.099136   \n",
       "1      -0.032411 -0.063365 -0.256451  0.170405  1.707454 -0.889698 -0.526321   \n",
       "2       0.628993 -0.542591 -1.487522 -0.427180  0.552639 -0.718009  0.274286   \n",
       "3       0.492019 -0.506463 -1.338224  0.032873 -0.257829 -0.585210  0.070405   \n",
       "4      -0.397913  0.173007  0.847575 -0.858395 -0.816950 -1.575170  0.183157   \n",
       "...          ...       ...       ...       ...       ...       ...       ...   \n",
       "275658  3.774636 -5.932871  0.985336 -2.287850 -1.181933 -0.680110 -2.287249   \n",
       "275659  0.257243 -0.353875  0.633605  0.954162 -0.063408 -1.589925 -0.106557   \n",
       "275660  2.038178 -0.939223  0.446143  0.534334  0.398815  0.118360 -0.110257   \n",
       "275661  0.893477 -0.553344  0.366577  0.509038 -1.997447  1.246786  0.162977   \n",
       "275662 -1.684880  0.208411  0.631171  0.655535 -1.018033  0.073042 -0.180305   \n",
       "\n",
       "              13        14        15  \n",
       "0       0.195310  0.202303 -1.517385  \n",
       "1       0.198785  0.147549 -0.600740  \n",
       "2       0.043461  0.430816 -2.464673  \n",
       "3       0.189067 -0.386272  0.498132  \n",
       "4       0.788469 -0.446539 -0.331035  \n",
       "...          ...       ...       ...  \n",
       "275658 -6.460663 -2.430597  0.606362  \n",
       "275659  0.428097 -0.011523 -1.281257  \n",
       "275660  0.446304  0.049100 -1.483543  \n",
       "275661 -0.510440  0.894472 -1.881723  \n",
       "275662  0.116590  0.131645 -0.031084  \n",
       "\n",
       "[275663 rows x 16 columns]"
      ]
     },
     "execution_count": 27,
     "metadata": {},
     "output_type": "execute_result"
    }
   ],
   "source": [
    "new_data"
   ]
  },
  {
   "cell_type": "code",
   "execution_count": 28,
   "metadata": {},
   "outputs": [],
   "source": [
    "new_data['class'] = data_label"
   ]
  },
  {
   "cell_type": "code",
   "execution_count": 29,
   "metadata": {},
   "outputs": [
    {
     "data": {
      "text/plain": [
       "0         0\n",
       "1         0\n",
       "2         0\n",
       "3         0\n",
       "4         0\n",
       "         ..\n",
       "275658    0\n",
       "275659    0\n",
       "275660    0\n",
       "275661    0\n",
       "275662    0\n",
       "Name: class, Length: 275663, dtype: int64"
      ]
     },
     "execution_count": 29,
     "metadata": {},
     "output_type": "execute_result"
    }
   ],
   "source": [
    "new_data['class']"
   ]
  },
  {
   "cell_type": "code",
   "execution_count": 30,
   "metadata": {},
   "outputs": [
    {
     "data": {
      "text/plain": [
       "array([0, 1], dtype=int64)"
      ]
     },
     "execution_count": 30,
     "metadata": {},
     "output_type": "execute_result"
    }
   ],
   "source": [
    "(new_data['class'].unique())"
   ]
  },
  {
   "cell_type": "markdown",
   "metadata": {},
   "source": [
    "# Let's apply SMOTE to balance the dataset"
   ]
  },
  {
   "cell_type": "code",
   "execution_count": 31,
   "metadata": {},
   "outputs": [],
   "source": [
    "from imblearn.over_sampling import SMOTE"
   ]
  },
  {
   "cell_type": "code",
   "execution_count": 32,
   "metadata": {},
   "outputs": [],
   "source": [
    "smote_obj = SMOTE(sampling_strategy='minority',k_neighbors=5)"
   ]
  },
  {
   "cell_type": "code",
   "execution_count": 33,
   "metadata": {},
   "outputs": [],
   "source": [
    "X_oversampled, Y_oversampled = smote_obj.fit_resample(X=new_data.iloc[:,0:new_data.shape[1]-1],y=new_data['class'])"
   ]
  },
  {
   "cell_type": "code",
   "execution_count": 34,
   "metadata": {},
   "outputs": [
    {
     "data": {
      "text/html": [
       "<div>\n",
       "<style scoped>\n",
       "    .dataframe tbody tr th:only-of-type {\n",
       "        vertical-align: middle;\n",
       "    }\n",
       "\n",
       "    .dataframe tbody tr th {\n",
       "        vertical-align: top;\n",
       "    }\n",
       "\n",
       "    .dataframe thead th {\n",
       "        text-align: right;\n",
       "    }\n",
       "</style>\n",
       "<table border=\"1\" class=\"dataframe\">\n",
       "  <thead>\n",
       "    <tr style=\"text-align: right;\">\n",
       "      <th></th>\n",
       "      <th>0</th>\n",
       "      <th>1</th>\n",
       "      <th>2</th>\n",
       "      <th>3</th>\n",
       "      <th>4</th>\n",
       "      <th>5</th>\n",
       "      <th>6</th>\n",
       "      <th>7</th>\n",
       "      <th>8</th>\n",
       "      <th>9</th>\n",
       "      <th>10</th>\n",
       "      <th>11</th>\n",
       "      <th>12</th>\n",
       "      <th>13</th>\n",
       "      <th>14</th>\n",
       "      <th>15</th>\n",
       "    </tr>\n",
       "  </thead>\n",
       "  <tbody>\n",
       "    <tr>\n",
       "      <td>0</td>\n",
       "      <td>59.042469</td>\n",
       "      <td>1.264717</td>\n",
       "      <td>-0.953073</td>\n",
       "      <td>-2.559258</td>\n",
       "      <td>1.102586</td>\n",
       "      <td>0.056444</td>\n",
       "      <td>-0.028142</td>\n",
       "      <td>-0.136403</td>\n",
       "      <td>0.371820</td>\n",
       "      <td>-0.194554</td>\n",
       "      <td>-0.670496</td>\n",
       "      <td>1.058637</td>\n",
       "      <td>-0.099136</td>\n",
       "      <td>0.195310</td>\n",
       "      <td>0.202303</td>\n",
       "      <td>-1.517385</td>\n",
       "    </tr>\n",
       "    <tr>\n",
       "      <td>1</td>\n",
       "      <td>-87.890544</td>\n",
       "      <td>-1.072583</td>\n",
       "      <td>0.123013</td>\n",
       "      <td>-0.195061</td>\n",
       "      <td>0.439708</td>\n",
       "      <td>0.054045</td>\n",
       "      <td>-0.032411</td>\n",
       "      <td>-0.063365</td>\n",
       "      <td>-0.256451</td>\n",
       "      <td>0.170405</td>\n",
       "      <td>1.707454</td>\n",
       "      <td>-0.889698</td>\n",
       "      <td>-0.526321</td>\n",
       "      <td>0.198785</td>\n",
       "      <td>0.147549</td>\n",
       "      <td>-0.600740</td>\n",
       "    </tr>\n",
       "    <tr>\n",
       "      <td>2</td>\n",
       "      <td>288.087806</td>\n",
       "      <td>0.783371</td>\n",
       "      <td>-1.090214</td>\n",
       "      <td>-2.053562</td>\n",
       "      <td>0.092831</td>\n",
       "      <td>-0.987747</td>\n",
       "      <td>0.628993</td>\n",
       "      <td>-0.542591</td>\n",
       "      <td>-1.487522</td>\n",
       "      <td>-0.427180</td>\n",
       "      <td>0.552639</td>\n",
       "      <td>-0.718009</td>\n",
       "      <td>0.274286</td>\n",
       "      <td>0.043461</td>\n",
       "      <td>0.430816</td>\n",
       "      <td>-2.464673</td>\n",
       "    </tr>\n",
       "    <tr>\n",
       "      <td>3</td>\n",
       "      <td>32.922736</td>\n",
       "      <td>0.875123</td>\n",
       "      <td>-0.848014</td>\n",
       "      <td>-1.636324</td>\n",
       "      <td>-0.966673</td>\n",
       "      <td>-0.993870</td>\n",
       "      <td>0.492019</td>\n",
       "      <td>-0.506463</td>\n",
       "      <td>-1.338224</td>\n",
       "      <td>0.032873</td>\n",
       "      <td>-0.257829</td>\n",
       "      <td>-0.585210</td>\n",
       "      <td>0.070405</td>\n",
       "      <td>0.189067</td>\n",
       "      <td>-0.386272</td>\n",
       "      <td>0.498132</td>\n",
       "    </tr>\n",
       "    <tr>\n",
       "      <td>4</td>\n",
       "      <td>-20.589188</td>\n",
       "      <td>1.249320</td>\n",
       "      <td>0.148723</td>\n",
       "      <td>-1.747384</td>\n",
       "      <td>0.176306</td>\n",
       "      <td>0.026978</td>\n",
       "      <td>-0.397913</td>\n",
       "      <td>0.173007</td>\n",
       "      <td>0.847575</td>\n",
       "      <td>-0.858395</td>\n",
       "      <td>-0.816950</td>\n",
       "      <td>-1.575170</td>\n",
       "      <td>0.183157</td>\n",
       "      <td>0.788469</td>\n",
       "      <td>-0.446539</td>\n",
       "      <td>-0.331035</td>\n",
       "    </tr>\n",
       "    <tr>\n",
       "      <td>...</td>\n",
       "      <td>...</td>\n",
       "      <td>...</td>\n",
       "      <td>...</td>\n",
       "      <td>...</td>\n",
       "      <td>...</td>\n",
       "      <td>...</td>\n",
       "      <td>...</td>\n",
       "      <td>...</td>\n",
       "      <td>...</td>\n",
       "      <td>...</td>\n",
       "      <td>...</td>\n",
       "      <td>...</td>\n",
       "      <td>...</td>\n",
       "      <td>...</td>\n",
       "      <td>...</td>\n",
       "      <td>...</td>\n",
       "    </tr>\n",
       "    <tr>\n",
       "      <td>550375</td>\n",
       "      <td>-90.570610</td>\n",
       "      <td>1.477773</td>\n",
       "      <td>2.972829</td>\n",
       "      <td>2.295794</td>\n",
       "      <td>1.842033</td>\n",
       "      <td>2.095868</td>\n",
       "      <td>1.459639</td>\n",
       "      <td>-0.939788</td>\n",
       "      <td>-2.264662</td>\n",
       "      <td>4.777811</td>\n",
       "      <td>1.514532</td>\n",
       "      <td>2.561746</td>\n",
       "      <td>3.924947</td>\n",
       "      <td>5.543886</td>\n",
       "      <td>-1.210894</td>\n",
       "      <td>-1.492049</td>\n",
       "    </tr>\n",
       "    <tr>\n",
       "      <td>550376</td>\n",
       "      <td>-89.584801</td>\n",
       "      <td>2.725411</td>\n",
       "      <td>9.820452</td>\n",
       "      <td>7.645141</td>\n",
       "      <td>9.277473</td>\n",
       "      <td>6.954777</td>\n",
       "      <td>3.988109</td>\n",
       "      <td>-1.779686</td>\n",
       "      <td>-5.563546</td>\n",
       "      <td>12.333862</td>\n",
       "      <td>9.343189</td>\n",
       "      <td>9.382455</td>\n",
       "      <td>14.380714</td>\n",
       "      <td>19.727503</td>\n",
       "      <td>-7.188007</td>\n",
       "      <td>-2.903885</td>\n",
       "    </tr>\n",
       "    <tr>\n",
       "      <td>550377</td>\n",
       "      <td>9.418395</td>\n",
       "      <td>10.395544</td>\n",
       "      <td>11.882407</td>\n",
       "      <td>7.993042</td>\n",
       "      <td>3.238752</td>\n",
       "      <td>11.568084</td>\n",
       "      <td>6.077024</td>\n",
       "      <td>-5.674028</td>\n",
       "      <td>-2.646981</td>\n",
       "      <td>7.192553</td>\n",
       "      <td>1.722300</td>\n",
       "      <td>3.462371</td>\n",
       "      <td>4.802425</td>\n",
       "      <td>6.675856</td>\n",
       "      <td>-2.875237</td>\n",
       "      <td>-2.257954</td>\n",
       "    </tr>\n",
       "    <tr>\n",
       "      <td>550378</td>\n",
       "      <td>-89.585047</td>\n",
       "      <td>0.697323</td>\n",
       "      <td>6.011451</td>\n",
       "      <td>4.503779</td>\n",
       "      <td>6.914147</td>\n",
       "      <td>2.721089</td>\n",
       "      <td>-0.656176</td>\n",
       "      <td>-0.204638</td>\n",
       "      <td>-3.118933</td>\n",
       "      <td>6.467053</td>\n",
       "      <td>6.041302</td>\n",
       "      <td>5.822702</td>\n",
       "      <td>8.431408</td>\n",
       "      <td>12.037455</td>\n",
       "      <td>-5.025189</td>\n",
       "      <td>-0.759572</td>\n",
       "    </tr>\n",
       "    <tr>\n",
       "      <td>550379</td>\n",
       "      <td>9.429752</td>\n",
       "      <td>18.063438</td>\n",
       "      <td>18.600817</td>\n",
       "      <td>12.426335</td>\n",
       "      <td>4.074125</td>\n",
       "      <td>19.150206</td>\n",
       "      <td>11.881868</td>\n",
       "      <td>-9.853549</td>\n",
       "      <td>-4.570240</td>\n",
       "      <td>10.990683</td>\n",
       "      <td>4.779195</td>\n",
       "      <td>4.454903</td>\n",
       "      <td>7.327522</td>\n",
       "      <td>9.256861</td>\n",
       "      <td>-3.985355</td>\n",
       "      <td>-1.947562</td>\n",
       "    </tr>\n",
       "  </tbody>\n",
       "</table>\n",
       "<p>550380 rows × 16 columns</p>\n",
       "</div>"
      ],
      "text/plain": [
       "                0          1          2          3         4          5   \\\n",
       "0        59.042469   1.264717  -0.953073  -2.559258  1.102586   0.056444   \n",
       "1       -87.890544  -1.072583   0.123013  -0.195061  0.439708   0.054045   \n",
       "2       288.087806   0.783371  -1.090214  -2.053562  0.092831  -0.987747   \n",
       "3        32.922736   0.875123  -0.848014  -1.636324 -0.966673  -0.993870   \n",
       "4       -20.589188   1.249320   0.148723  -1.747384  0.176306   0.026978   \n",
       "...            ...        ...        ...        ...       ...        ...   \n",
       "550375  -90.570610   1.477773   2.972829   2.295794  1.842033   2.095868   \n",
       "550376  -89.584801   2.725411   9.820452   7.645141  9.277473   6.954777   \n",
       "550377    9.418395  10.395544  11.882407   7.993042  3.238752  11.568084   \n",
       "550378  -89.585047   0.697323   6.011451   4.503779  6.914147   2.721089   \n",
       "550379    9.429752  18.063438  18.600817  12.426335  4.074125  19.150206   \n",
       "\n",
       "               6         7         8          9         10        11  \\\n",
       "0       -0.028142 -0.136403  0.371820  -0.194554 -0.670496  1.058637   \n",
       "1       -0.032411 -0.063365 -0.256451   0.170405  1.707454 -0.889698   \n",
       "2        0.628993 -0.542591 -1.487522  -0.427180  0.552639 -0.718009   \n",
       "3        0.492019 -0.506463 -1.338224   0.032873 -0.257829 -0.585210   \n",
       "4       -0.397913  0.173007  0.847575  -0.858395 -0.816950 -1.575170   \n",
       "...           ...       ...       ...        ...       ...       ...   \n",
       "550375   1.459639 -0.939788 -2.264662   4.777811  1.514532  2.561746   \n",
       "550376   3.988109 -1.779686 -5.563546  12.333862  9.343189  9.382455   \n",
       "550377   6.077024 -5.674028 -2.646981   7.192553  1.722300  3.462371   \n",
       "550378  -0.656176 -0.204638 -3.118933   6.467053  6.041302  5.822702   \n",
       "550379  11.881868 -9.853549 -4.570240  10.990683  4.779195  4.454903   \n",
       "\n",
       "               12         13        14        15  \n",
       "0       -0.099136   0.195310  0.202303 -1.517385  \n",
       "1       -0.526321   0.198785  0.147549 -0.600740  \n",
       "2        0.274286   0.043461  0.430816 -2.464673  \n",
       "3        0.070405   0.189067 -0.386272  0.498132  \n",
       "4        0.183157   0.788469 -0.446539 -0.331035  \n",
       "...           ...        ...       ...       ...  \n",
       "550375   3.924947   5.543886 -1.210894 -1.492049  \n",
       "550376  14.380714  19.727503 -7.188007 -2.903885  \n",
       "550377   4.802425   6.675856 -2.875237 -2.257954  \n",
       "550378   8.431408  12.037455 -5.025189 -0.759572  \n",
       "550379   7.327522   9.256861 -3.985355 -1.947562  \n",
       "\n",
       "[550380 rows x 16 columns]"
      ]
     },
     "execution_count": 34,
     "metadata": {},
     "output_type": "execute_result"
    }
   ],
   "source": [
    "X_oversampled"
   ]
  },
  {
   "cell_type": "code",
   "execution_count": 35,
   "metadata": {},
   "outputs": [],
   "source": [
    "balanced_data = pd.DataFrame(X_oversampled)\n",
    "balanced_data['class'] = Y_oversampled"
   ]
  },
  {
   "cell_type": "code",
   "execution_count": 36,
   "metadata": {},
   "outputs": [
    {
     "data": {
      "text/plain": [
       "(275190, 17)"
      ]
     },
     "execution_count": 36,
     "metadata": {},
     "output_type": "execute_result"
    }
   ],
   "source": [
    "balanced_data[balanced_data['class'] == 0].shape"
   ]
  },
  {
   "cell_type": "code",
   "execution_count": 37,
   "metadata": {},
   "outputs": [
    {
     "data": {
      "text/plain": [
       "(275190, 17)"
      ]
     },
     "execution_count": 37,
     "metadata": {},
     "output_type": "execute_result"
    }
   ],
   "source": [
    "balanced_data[balanced_data['class']==0].shape"
   ]
  },
  {
   "cell_type": "markdown",
   "metadata": {},
   "source": [
    "# splitting the dataset into training, Cross-Validation and testing data"
   ]
  },
  {
   "cell_type": "code",
   "execution_count": 38,
   "metadata": {},
   "outputs": [
    {
     "name": "stdout",
     "output_type": "stream",
     "text": [
      "385266\n",
      "110076\n",
      "55038\n"
     ]
    }
   ],
   "source": [
    "training_data_len = int(0.7*balanced_data.shape[0])\n",
    "print(training_data_len)\n",
    "\n",
    "cv_data_len = int(0.2*balanced_data.shape[0])\n",
    "print(cv_data_len)\n",
    "\n",
    "test_data_len = int(0.1*balanced_data.shape[0])\n",
    "print(test_data_len)"
   ]
  },
  {
   "cell_type": "code",
   "execution_count": 39,
   "metadata": {},
   "outputs": [],
   "source": [
    "train_data_neg = balanced_data[balanced_data['class'] == 0].iloc[0:int(training_data_len//2)]\n",
    "\n",
    "train_data_pos = balanced_data[balanced_data['class'] == 1].iloc[0:int(training_data_len//2)]\n",
    "\n",
    "train_data = pd.concat([train_data_pos,train_data_neg])"
   ]
  },
  {
   "cell_type": "code",
   "execution_count": 40,
   "metadata": {},
   "outputs": [],
   "source": [
    "cv_data_neg = balanced_data[balanced_data['class'] == 0].iloc[int(training_data_len//2):(int(training_data_len//2)+int(cv_data_len//2))]\n",
    "\n",
    "cv_data_pos = balanced_data[balanced_data['class'] == 1].iloc[int(training_data_len//2):(int(training_data_len//2)+int(cv_data_len//2))]\n",
    "\n",
    "cv_data = pd.concat([cv_data_neg,cv_data_pos])"
   ]
  },
  {
   "cell_type": "code",
   "execution_count": 41,
   "metadata": {},
   "outputs": [],
   "source": [
    "test_data_neg = balanced_data[balanced_data['class'] == 0].iloc[(int(training_data_len//2)+int(cv_data_len//2)):]\n",
    "\n",
    "test_data_pos =  balanced_data[balanced_data['class'] == 1].iloc[(int(training_data_len//2)+int(cv_data_len//2)):]\n",
    "\n",
    "test_data = pd.concat([test_data_neg,test_data_pos])"
   ]
  },
  {
   "cell_type": "code",
   "execution_count": 42,
   "metadata": {},
   "outputs": [
    {
     "data": {
      "text/plain": [
       "(385266, 17)"
      ]
     },
     "execution_count": 42,
     "metadata": {},
     "output_type": "execute_result"
    }
   ],
   "source": [
    "train_data.shape"
   ]
  },
  {
   "cell_type": "code",
   "execution_count": 43,
   "metadata": {},
   "outputs": [
    {
     "data": {
      "text/plain": [
       "(110076, 17)"
      ]
     },
     "execution_count": 43,
     "metadata": {},
     "output_type": "execute_result"
    }
   ],
   "source": [
    "cv_data.shape"
   ]
  },
  {
   "cell_type": "code",
   "execution_count": 44,
   "metadata": {},
   "outputs": [
    {
     "data": {
      "text/plain": [
       "(55038, 17)"
      ]
     },
     "execution_count": 44,
     "metadata": {},
     "output_type": "execute_result"
    }
   ],
   "source": [
    "test_data.shape"
   ]
  },
  {
   "cell_type": "markdown",
   "metadata": {},
   "source": [
    "# applying Gaussian Naive Bayes on training data"
   ]
  },
  {
   "cell_type": "code",
   "execution_count": 45,
   "metadata": {},
   "outputs": [],
   "source": [
    "from sklearn.naive_bayes import GaussianNB"
   ]
  },
  {
   "cell_type": "code",
   "execution_count": 46,
   "metadata": {},
   "outputs": [],
   "source": [
    "gaussian_nb = GaussianNB()"
   ]
  },
  {
   "cell_type": "code",
   "execution_count": 47,
   "metadata": {},
   "outputs": [
    {
     "data": {
      "text/plain": [
       "GaussianNB()"
      ]
     },
     "execution_count": 47,
     "metadata": {},
     "output_type": "execute_result"
    }
   ],
   "source": [
    "gaussian_nb.fit(X=np.array(train_data.iloc[:,0:train_data.shape[1]-1]),y=np.array(train_data['class']))"
   ]
  },
  {
   "cell_type": "markdown",
   "metadata": {},
   "source": [
    "# Finally predicting the labels using CV data and calculating the accuracy"
   ]
  },
  {
   "cell_type": "code",
   "execution_count": 48,
   "metadata": {},
   "outputs": [],
   "source": [
    "predicted_labels_cv = gaussian_nb.predict(X=np.array(cv_data.iloc[:,0:cv_data.shape[1]-1]))"
   ]
  },
  {
   "cell_type": "code",
   "execution_count": 49,
   "metadata": {},
   "outputs": [
    {
     "data": {
      "text/plain": [
       "array([0, 0, 0, ..., 1, 1, 1], dtype=int64)"
      ]
     },
     "execution_count": 49,
     "metadata": {},
     "output_type": "execute_result"
    }
   ],
   "source": [
    "predicted_labels_cv"
   ]
  },
  {
   "cell_type": "code",
   "execution_count": 50,
   "metadata": {},
   "outputs": [],
   "source": [
    "from sklearn.metrics import classification_report"
   ]
  },
  {
   "cell_type": "code",
   "execution_count": 51,
   "metadata": {},
   "outputs": [
    {
     "name": "stdout",
     "output_type": "stream",
     "text": [
      "              precision    recall  f1-score   support\n",
      "\n",
      "           0       0.87      0.98      0.92     55038\n",
      "           1       0.97      0.85      0.91     55038\n",
      "\n",
      "    accuracy                           0.91    110076\n",
      "   macro avg       0.92      0.91      0.91    110076\n",
      "weighted avg       0.92      0.91      0.91    110076\n",
      "\n"
     ]
    }
   ],
   "source": [
    "print(classification_report(y_true=np.array(cv_data['class']),y_pred=predicted_labels_cv))"
   ]
  },
  {
   "cell_type": "code",
   "execution_count": 52,
   "metadata": {},
   "outputs": [
    {
     "data": {
      "text/plain": [
       "(55038, 17)"
      ]
     },
     "execution_count": 52,
     "metadata": {},
     "output_type": "execute_result"
    }
   ],
   "source": [
    "test_data.shape"
   ]
  },
  {
   "cell_type": "code",
   "execution_count": 53,
   "metadata": {},
   "outputs": [],
   "source": [
    "predicted_labels_test = gaussian_nb.predict(X=np.array(test_data.iloc[:,0:test_data.shape[1]-1]))"
   ]
  },
  {
   "cell_type": "code",
   "execution_count": 54,
   "metadata": {},
   "outputs": [
    {
     "data": {
      "text/plain": [
       "array([0, 0, 0, ..., 1, 1, 1], dtype=int64)"
      ]
     },
     "execution_count": 54,
     "metadata": {},
     "output_type": "execute_result"
    }
   ],
   "source": [
    "predicted_labels_test"
   ]
  },
  {
   "cell_type": "code",
   "execution_count": 55,
   "metadata": {},
   "outputs": [],
   "source": [
    "from sklearn.metrics import classification_report"
   ]
  },
  {
   "cell_type": "code",
   "execution_count": 56,
   "metadata": {},
   "outputs": [
    {
     "name": "stdout",
     "output_type": "stream",
     "text": [
      "              precision    recall  f1-score   support\n",
      "\n",
      "           0       0.86      0.98      0.92     27519\n",
      "           1       0.98      0.85      0.91     27519\n",
      "\n",
      "    accuracy                           0.91     55038\n",
      "   macro avg       0.92      0.91      0.91     55038\n",
      "weighted avg       0.92      0.91      0.91     55038\n",
      "\n"
     ]
    }
   ],
   "source": [
    "print(classification_report(y_true=np.array(test_data['class']),y_pred=predicted_labels_test))"
   ]
  },
  {
   "cell_type": "code",
   "execution_count": null,
   "metadata": {},
   "outputs": [],
   "source": []
  }
 ],
 "metadata": {
  "kernelspec": {
   "display_name": "Python 3",
   "language": "python",
   "name": "python3"
  },
  "language_info": {
   "codemirror_mode": {
    "name": "ipython",
    "version": 3
   },
   "file_extension": ".py",
   "mimetype": "text/x-python",
   "name": "python",
   "nbconvert_exporter": "python",
   "pygments_lexer": "ipython3",
   "version": "3.7.4"
  },
  "latex_envs": {
   "LaTeX_envs_menu_present": true,
   "autoclose": false,
   "autocomplete": true,
   "bibliofile": "biblio.bib",
   "cite_by": "apalike",
   "current_citInitial": 1,
   "eqLabelWithNumbers": true,
   "eqNumInitial": 1,
   "hotkeys": {
    "equation": "Ctrl-E",
    "itemize": "Ctrl-I"
   },
   "labels_anchors": false,
   "latex_user_defs": false,
   "report_style_numbering": false,
   "user_envs_cfg": false
  },
  "toc": {
   "base_numbering": 1,
   "nav_menu": {},
   "number_sections": true,
   "sideBar": true,
   "skip_h1_title": false,
   "title_cell": "Table of Contents",
   "title_sidebar": "Contents",
   "toc_cell": false,
   "toc_position": {},
   "toc_section_display": true,
   "toc_window_display": false
  }
 },
 "nbformat": 4,
 "nbformat_minor": 2
}
